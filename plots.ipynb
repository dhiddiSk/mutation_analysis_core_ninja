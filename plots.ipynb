{
 "cells": [
  {
   "cell_type": "code",
   "execution_count": 3,
   "metadata": {
    "scrolled": true
   },
   "outputs": [],
   "source": [
    "## Drawing venn diagrams on mutants killed from different test suites during mutation analysis"
   ]
  },
  {
   "cell_type": "code",
   "execution_count": 4,
   "metadata": {},
   "outputs": [],
   "source": [
    "import xml.etree.ElementTree as et\n",
    "import pandas as pd\n",
    "Evosuite_Results = [\"/home/saikrishna/vennDiagram/EvoResults/CsvMutations.xml\",\n",
    "                    \"/home/saikrishna/vennDiagram/EvoResults/CollectionMutations.xml\",\n",
    "                    \"/home/saikrishna/vennDiagram/EvoResults/CompressMutations.xml\", \n",
    "                   \"/home/saikrishna/vennDiagram/EvoResults/ConfigMutations.xml\", \n",
    "                    \"/home/saikrishna/vennDiagram/EvoResults/DbcpMutations.xml\", \n",
    "                    \"/home/saikrishna/vennDiagram/EvoResults/ImagingMutations.xml\",                     \n",
    "                    \"/home/saikrishna/vennDiagram/EvoResults/LangMutations.xml\", \n",
    "                    \"/home/saikrishna/vennDiagram/EvoResults/MathMutations.xml\", \n",
    "                    \"/home/saikrishna/vennDiagram/EvoResults/NetMutations.xml\"]#\"/home/saikrishna/vennDiagram/EvoResults/IoMutations.xml\", \n",
    "\n",
    "\n",
    "df_cols_zero = [\"File\", \"Line\", \"Index\", \"Mutator\", \"status\"]\n",
    "rows_zero = []\n",
    "for totalFiles in range(len(Evosuite_Results)):\n",
    "    xtree = et.parse(Evosuite_Results[totalFiles])\n",
    "    #print(xtree)\n",
    "    xroot = xtree.getroot()\n",
    "    #Now we can iterate through each node of the tree\n",
    "    for node in xroot: \n",
    "        mutantStatus = node.attrib.get(\"status\")\n",
    "        #class_name = node.find(\"sourceFile\").text\n",
    "        mutated_class_name = node.find(\"sourceFile\").text\n",
    "        line = node.find(\"lineNumber\").text\n",
    "        index = node.find(\"index\").text\n",
    "        mutatorUsed = node.find(\"mutator\").text\n",
    "        rows_zero.append({\"File\": mutated_class_name, \"Line\": line, \"Index\": index, \"Mutator\": mutatorUsed, \"status\":mutantStatus})\n",
    "\n",
    "Evo_out_df = pd.DataFrame(rows_zero, columns = df_cols_zero)"
   ]
  },
  {
   "cell_type": "code",
   "execution_count": 5,
   "metadata": {},
   "outputs": [
    {
     "data": {
      "text/plain": [
       "44382"
      ]
     },
     "execution_count": 5,
     "metadata": {},
     "output_type": "execute_result"
    }
   ],
   "source": [
    "Evo_out_df\n",
    "#now delete the rows with status value as not-killed\n",
    "Evo_out_df_new = Evo_out_df[Evo_out_df.status == 'KILLED']\n",
    "len(Evo_out_df_new)"
   ]
  },
  {
   "cell_type": "code",
   "execution_count": 6,
   "metadata": {},
   "outputs": [
    {
     "data": {
      "text/plain": [
       "44382"
      ]
     },
     "execution_count": 6,
     "metadata": {},
     "output_type": "execute_result"
    }
   ],
   "source": [
    "Evo_list = []\n",
    "for i in range(len(Evo_out_df_new)):\n",
    "    EvosuiteRow = Evo_out_df_new.iloc[i]\n",
    "    temp0 = EvosuiteRow.File + \" \"+ EvosuiteRow.Line +\" \" + EvosuiteRow.Index + \" \"+ EvosuiteRow.Mutator\n",
    "    Evo_list.append(temp0)\n",
    "\n",
    "len(Evo_list)"
   ]
  },
  {
   "cell_type": "code",
   "execution_count": 7,
   "metadata": {},
   "outputs": [],
   "source": [
    "import xml.etree.ElementTree as et\n",
    "import pandas as pd\n",
    "Evosuite_Results = [\"/home/saikrishna/vennDiagram/RandoopResults/commons-collections.mutations.xml\",\n",
    "                    \"/home/saikrishna/vennDiagram/RandoopResults/commons-compress.mutations.xml\",\n",
    "                    \"/home/saikrishna/vennDiagram/RandoopResults/commons-configuration.mutations.xml\", \n",
    "                   \"/home/saikrishna/vennDiagram/RandoopResults/commons-csv.mutations.xml\", \n",
    "                    \"/home/saikrishna/vennDiagram/RandoopResults/commons-dbcp.mutations.xml\", \n",
    "                    \"/home/saikrishna/vennDiagram/RandoopResults/commons-imaging.mutations.xml\", \n",
    "                    \"/home/saikrishna/vennDiagram/RandoopResults/commons-lang.mutations.xml\", \n",
    "                    \"/home/saikrishna/vennDiagram/RandoopResults/commons-math.mutations.xml\", \n",
    "                    \"/home/saikrishna/vennDiagram/RandoopResults/commons-net.mutations.xml\"]\n",
    "\n",
    "\n",
    "df_cols_one = [\"File\", \"Line\", \"Index\", \"Mutator\", \"status\"]\n",
    "rows_one = []\n",
    "for totalFiles in range(len(Evosuite_Results)):\n",
    "    xtree = et.parse(Evosuite_Results[totalFiles])\n",
    "    #print(xtree)\n",
    "    xroot = xtree.getroot()\n",
    "    #Now we can iterate through each node of the tree\n",
    "    for node in xroot: \n",
    "        mutantStatus = node.attrib.get(\"status\")\n",
    "        #class_name = node.find(\"sourceFile\").text\n",
    "        mutated_class_name = node.find(\"sourceFile\").text\n",
    "        line = node.find(\"lineNumber\").text\n",
    "        index = node.find(\"index\").text\n",
    "        mutatorUsed = node.find(\"mutator\").text\n",
    "        rows_one.append({\"File\": mutated_class_name, \"Line\": line, \"Index\": index, \"Mutator\": mutatorUsed, \"status\":mutantStatus})\n",
    "\n",
    "Randoop_out_df = pd.DataFrame(rows_one, columns = df_cols_one)"
   ]
  },
  {
   "cell_type": "code",
   "execution_count": 8,
   "metadata": {},
   "outputs": [
    {
     "data": {
      "text/plain": [
       "17430"
      ]
     },
     "execution_count": 8,
     "metadata": {},
     "output_type": "execute_result"
    }
   ],
   "source": [
    "Randoop_out_df\n",
    "#now delete the rows with status value as not-killed\n",
    "Randoop_out_df_new = Randoop_out_df[Randoop_out_df.status == 'KILLED']\n",
    "len(Randoop_out_df_new)"
   ]
  },
  {
   "cell_type": "code",
   "execution_count": 9,
   "metadata": {},
   "outputs": [
    {
     "data": {
      "text/plain": [
       "17430"
      ]
     },
     "execution_count": 9,
     "metadata": {},
     "output_type": "execute_result"
    }
   ],
   "source": [
    "Randoop_list = []\n",
    "for i in range(len(Randoop_out_df_new)):\n",
    "    RandoopRow = Randoop_out_df_new.iloc[i]\n",
    "    temp1 = RandoopRow.File + \" \"+ RandoopRow.Line +\" \" + RandoopRow.Index + \" \"+ RandoopRow.Mutator\n",
    "    Randoop_list.append(temp1)\n",
    "len(Randoop_list)"
   ]
  },
  {
   "cell_type": "code",
   "execution_count": 10,
   "metadata": {},
   "outputs": [],
   "source": [
    "import xml.etree.ElementTree as et\n",
    "import pandas as pd\n",
    "Evosuite_Results = [\"/home/saikrishna/vennDiagram/TraditionalSuites/commons-collections.mutations.xml\",\n",
    "                    \"/home/saikrishna/vennDiagram/TraditionalSuites/commons-compress.mutations.xml\",\n",
    "                    \"/home/saikrishna/vennDiagram/TraditionalSuites/commons-configuration.mutations.xml\", \n",
    "                   \"/home/saikrishna/vennDiagram/TraditionalSuites/commons-csv.mutations.xml\", \n",
    "                    \"/home/saikrishna/vennDiagram/TraditionalSuites/commons-dbcp.mutations.xml\", \n",
    "                    \"/home/saikrishna/vennDiagram/TraditionalSuites/commons-imaging.mutations.xml\", \n",
    "                    \"/home/saikrishna/vennDiagram/TraditionalSuites/commons-lang.mutations.xml\", \n",
    "                    \"/home/saikrishna/vennDiagram/TraditionalSuites/commons-math.mutations.xml\", \n",
    "                    \"/home/saikrishna/vennDiagram/TraditionalSuites/commons-net.mutations.xml\"]\n",
    "\n",
    "\n",
    "df_cols_two = [\"File\", \"Line\", \"Index\", \"Mutator\", \"status\"]\n",
    "rows_two = []\n",
    "for totalFiles in range(len(Evosuite_Results)):\n",
    "    xtree = et.parse(Evosuite_Results[totalFiles])\n",
    "    #print(xtree)\n",
    "    xroot = xtree.getroot()\n",
    "    #Now we can iterate through each node of the tree\n",
    "    for node in xroot: \n",
    "        mutantStatus = node.attrib.get(\"status\")\n",
    "        #class_name = node.find(\"sourceFile\").text\n",
    "        mutated_class_name = node.find(\"sourceFile\").text\n",
    "        line = node.find(\"lineNumber\").text\n",
    "        index = node.find(\"index\").text\n",
    "        mutatorUsed = node.find(\"mutator\").text\n",
    "        rows_two.append({\"File\": mutated_class_name, \"Line\": line, \"Index\": index, \"Mutator\": mutatorUsed, \"status\":mutantStatus})\n",
    "\n",
    "Traditional_out_df = pd.DataFrame(rows_two, columns = df_cols_two)"
   ]
  },
  {
   "cell_type": "code",
   "execution_count": 11,
   "metadata": {},
   "outputs": [
    {
     "data": {
      "text/plain": [
       "71028"
      ]
     },
     "execution_count": 11,
     "metadata": {},
     "output_type": "execute_result"
    }
   ],
   "source": [
    "Traditional_out_df\n",
    "#len(Traditional_out_df)\n",
    "#now delete the rows with status value as not-killed\n",
    "Traditional_out_df_new = Traditional_out_df[Traditional_out_df.status == 'KILLED']\n",
    "len(Traditional_out_df_new)"
   ]
  },
  {
   "cell_type": "code",
   "execution_count": 12,
   "metadata": {},
   "outputs": [
    {
     "data": {
      "text/plain": [
       "71028"
      ]
     },
     "execution_count": 12,
     "metadata": {},
     "output_type": "execute_result"
    }
   ],
   "source": [
    "Traditional_list = []\n",
    "for i in range(len(Traditional_out_df_new)):\n",
    "    TraditionalRow = Traditional_out_df_new.iloc[i]\n",
    "    temp2 = TraditionalRow.File + \" \"+ TraditionalRow.Line +\" \" + TraditionalRow.Index + \" \"+ TraditionalRow.Mutator\n",
    "    Traditional_list.append(temp2)\n",
    "len(Traditional_list)"
   ]
  },
  {
   "cell_type": "code",
   "execution_count": 13,
   "metadata": {},
   "outputs": [],
   "source": [
    "#now check the data if the mutants in one set exists in another set\n",
    "# counter = 0\n",
    "# for i in range(len(Traditional_list)):\n",
    "#     if Traditional_list[i] in Evo_list:\n",
    "#         counter = counter + 1\n",
    "# counter"
   ]
  },
  {
   "cell_type": "code",
   "execution_count": 14,
   "metadata": {},
   "outputs": [
    {
     "name": "stdout",
     "output_type": "stream",
     "text": [
      "44351\n",
      "17430\n",
      "70953\n"
     ]
    },
    {
     "data": {
      "image/png": "[encoded data removed]",
      "text/plain": [
       "<Figure size 432x288 with 1 Axes>"
      ]
     },
     "metadata": {},
     "output_type": "display_data"
    }
   ],
   "source": [
    "#$ venn3([set(lst1), set(lst2), set(lst3)], set_labels = ('Drug A responsive genes', 'Drug B responsive genes', 'Drug C responsive genes'))\n",
    "import matplotlib_venn as vltp\n",
    "from matplotlib import pyplot as plt\n",
    "set1 = set(Evo_list)\n",
    "print(len(set1))\n",
    "set2 = set(Randoop_list)\n",
    "print(len(set2))\n",
    "set3 = set(Traditional_list)\n",
    "print(len(set3))\n",
    "vltp.venn3([set1, set2, set3], set_labels = ('Evo-Suites', 'Randoop-Suites', 'Manual-Suites'))\n",
    "#plt.title('Comparison of mutants killed by three independent test-suites')\n",
    "plt.savefig('vennDiagram.png', dpi=300, bbox_inches='tight')"
   ]
  },
  {
   "cell_type": "code",
   "execution_count": null,
   "metadata": {},
   "outputs": [],
   "source": []
  },
  {
   "cell_type": "code",
   "execution_count": null,
   "metadata": {},
   "outputs": [],
   "source": [
    "#Grouped bar graphs\n",
    "\n",
    "import numpy as np\n",
    "import pandas as pd\n",
    "import matplotlib.pyplot as plt\n",
    "\n",
    "df = pd.read_csv('killedMutantsPercentage.csv')\n",
    "subjects = ['Csv', 'Collections', 'Compress', 'Configuration', 'Dbcp', 'Imaging', 'Io', 'Lang', 'Math', 'Net']\n",
    "dataset = df.groupby('tools')[subjects].mean()\n",
    "\n",
    "indx = np.arange(len(subjects))\n",
    "score_label = np.arange(0, 110, 10)\n",
    "traditional_means = list(dataset.T['Traditional'])\n",
    "evosuite_means = list(dataset.T['Evosuite'])\n",
    "randoop_means = list(dataset.T['Randoop'])\n",
    "\n",
    "bar_width = 0.25\n",
    "\n",
    "fig, ax = plt.subplots()\n",
    "bartraditional = ax.bar(indx-bar_width, traditional_means, bar_width, label='Traditional suites', color='#00994c')\n",
    "barevo = ax.bar(indx, evosuite_means, bar_width, label='Evo Suites', color='#004c99')\n",
    "barrandoop = ax.bar(indx+bar_width, randoop_means, bar_width, label='Randoop suites', color='orange')\n",
    "\n",
    "\n",
    "# inserting x axis label\n",
    "ax.set_xticks(indx)\n",
    "ax.set_xticklabels(subjects)\n",
    "\n",
    "# inserting y axis label\n",
    "ax.set_yticks(score_label)\n",
    "ax.set_yticklabels(score_label)\n",
    "\n",
    "# inserting legend\n",
    "ax.legend()\n",
    "\n",
    "def insert_data_labels(bars):\n",
    "\tfor bar in bars:\n",
    "\t\tbar_height = bar.get_height()\n",
    "\t\tax.annotate('{0:.0f}'.format(bar.get_height()),\n",
    "\t\t\txy=(bar.get_x() + bar.get_width() / 2, bar_height),\n",
    "\t\t\txytext=(0, 3),\n",
    "\t\t\ttextcoords='offset points',\n",
    "\t\t\tha='center',\n",
    "\t\t\tva='bottom'\n",
    "\t\t)\n",
    "\n",
    "insert_data_labels(bartraditional)\n",
    "insert_data_labels(barevo)\n",
    "insert_data_labels(barrandoop)\n",
    "plt.xlabel('Subject projects')\n",
    "plt.ylabel('Percentage of mutants killed')\n",
    "plt.rcParams['figure.figsize'] = (15,8)\n",
    "plt.savefig('comparisions_on_mutatns_killed.png', dpi=300, bbox_inches='tight')\n",
    "plt.show()"
   ]
  },
  {
   "cell_type": "code",
   "execution_count": null,
   "metadata": {},
   "outputs": [],
   "source": []
  },
  {
   "cell_type": "code",
   "execution_count": null,
   "metadata": {},
   "outputs": [],
   "source": [
    "#plotting the boxplots\n",
    "import numpy as np\n",
    "import pandas as pd\n",
    "import seaborn as sns\n",
    "import matplotlib.pyplot as plt\n",
    "fig, ax = plt.subplots()"
   ]
  },
  {
   "cell_type": "code",
   "execution_count": null,
   "metadata": {},
   "outputs": [],
   "source": [
    "Estimations = pd.read_csv('KillableEstiamtions.csv')\n",
    "Estimations.head(20)\n",
    "\n",
    "#subset the data with out Original\n",
    "#Estimations_subset = Estimations[Estimations['estimators'].isin(['Lincoln Index', 'JackKnife', 'Chaos', 'Ichaos'])]\n",
    "#Estimations_subset"
   ]
  },
  {
   "cell_type": "code",
   "execution_count": null,
   "metadata": {},
   "outputs": [],
   "source": [
    "sns.boxplot(x= Estimations['estimators'], y = Estimations['csv'], data=Estimations, palette='husl', width=0.3)\n",
    "plt.xlabel(\"estimator\")\n",
    "plt.ylabel(\"estimated killable\")\n",
    "plt.savefig('csv_killable.png', dpi=300, bbox_inches='tight')"
   ]
  },
  {
   "cell_type": "code",
   "execution_count": null,
   "metadata": {},
   "outputs": [],
   "source": []
  },
  {
   "cell_type": "code",
   "execution_count": null,
   "metadata": {},
   "outputs": [],
   "source": [
    "import matplotlib.pyplot as plt\n",
    "import pandas as pd\n",
    "ax = plt.gca()\n",
    "df = pd.DataFrame({\n",
    "   'Original': [0.98, 0.99, 0.99, 0.99, 0.99, 1.0, 0.98, 0.98, 0.99, 0.99],\n",
    "   'Ichaos': [0.94, 0.71, 0.89, 0.84, 0.68, 0.71, 0.83, 0.62, 0.83, 0.72],\n",
    "   'Chaos': [0.94, 0.71, 0.89, 0.84, 0.68, 0.71, 0.83, 0.62, 0.83, 0.72],\n",
    "   'Jackknife': [0.89, 0.69, 0.84, 0.82, 0.68, 0.73, 0.76, 0.62, 0.78, 0.67],\n",
    "    'Lincoln Index': [0.78, 0.41, 0.68, 0.79, 0.47, 0.53, 0.81, 0.86, 0.74, 0.34],\n",
    "    'projects': ['Csv', 'Collection', 'Compress', 'Configuration', 'Dbcp', 'Imaging', 'Io', 'Lang', 'Math', 'Net']})\n",
    "df.plot(kind='line',y='Original', ax=ax)\n",
    "df.plot(kind='line',y='Ichaos', ax=ax)\n",
    "df.plot(kind='line',y='Chaos', ax=ax)\n",
    "df.plot(kind='line',y='Jackknife', ax=ax)\n",
    "df.plot(kind='line',y='Lincoln Index', ax=ax)\n",
    "plt.rcParams['figure.figsize'] = (8,8)\n",
    "plt.xlabel(\"Projects serial no.\")\n",
    "plt.ylabel(\"Mutation score\")\n",
    "plt.savefig('MutationScore.png', dpi=300, bbox_inches='tight')\n",
    "plt.show()"
   ]
  },
  {
   "cell_type": "code",
   "execution_count": null,
   "metadata": {},
   "outputs": [],
   "source": []
  },
  {
   "cell_type": "code",
   "execution_count": null,
   "metadata": {},
   "outputs": [],
   "source": [
    "import jsonlines\n",
    "import pandas as pd\n",
    "import numpy as np\n",
    "import cufflinks as cf\n",
    "import subprocess\n",
    "import json\n",
    "import os\n",
    "cf.go_offline()\n",
    "#load_dir = '/Volumes/Timemachine/gcloud/T2/research/analyze-faults/data/json/'\n",
    "load_dir = '../results'"
   ]
  },
  {
   "cell_type": "code",
   "execution_count": null,
   "metadata": {},
   "outputs": [],
   "source": [
    "def process_xml(xml_file):\n",
    "\n",
    "    # p_name=os.path.splitext(project)[0]\n",
    "    # table_file=os.path.join(load_dir,p_name+'.csv')\n",
    "    # res_file=os.path.join(load_dir,p_name+'.estimate.json')\n",
    "    project_file= \"%s.json\" % xml_file\n",
    "    !xml2json -d badgerfish {load_dir}/{xml_file} > {project_file}\n",
    "    \n",
    "    killed_mutants=[]\n",
    "    survived=[]\n",
    "    f0 = 0\n",
    "    f1 = 0\n",
    "    f2 = 0\n",
    "    with open(project_file) as fp:\n",
    "        reader = json.load(fp)['mutations']['mutation']\n",
    "        \n",
    "    for idx,obj in enumerate(reader):\n",
    "        if obj['@status']=='KILLED':\n",
    "            kt = obj['killingTests']['$'].split('|')\n",
    "            for t in kt:\n",
    "                killed_mutants.append((idx,t))\n",
    "            if len(kt) == 1:\n",
    "                f1 +=1\n",
    "            elif len(kt) == 2:\n",
    "                f2 += 1\n",
    "                \n",
    "        if obj['@status']=='SURVIVED':\n",
    "            survived.append(idx)\n",
    "            f0 +=1\n",
    "\n",
    "    col_names=['mutant','test']\n",
    "    df=pd.DataFrame(killed_mutants,columns=col_names)\n",
    "    m_table=pd.crosstab(df['mutant'],df['test'])\n",
    "    z = pd.DataFrame(0, index=np.arange(len(survived)), columns=m_table.columns)\n",
    "    new = m_table.append(z)\n",
    "    return len(m_table), len(survived),f0, f1, f2, new"
   ]
  },
  {
   "cell_type": "code",
   "execution_count": null,
   "metadata": {},
   "outputs": [],
   "source": [
    "projects = [\n",
    "# 'commons-csv.mutations.xml'\n",
    "#,'commons-bcel.xml'\n",
    "#,'commons-cli.xml'\n",
    "#,'commons-codec.xml'\n",
    "'commons-collections.mutations.xml'\n",
    "#,'commons-configuration.xml'\n",
    "#,'commons-dbcp.xml'\n",
    ",'commons-dbutils.mutations.xml'\n",
    "#,'commons-discovery.xml'\n",
    ",'commons-exec.mutations.xml'\n",
    "#,'commons-fileupload.xml'\n",
    ",'commons-imaging.mutations.xml'\n",
    ",'commons-io.mutations.xml'\n",
    "# ,'commons-lang.mutations.xml'\n",
    "#,'commons-mail.xml'\n",
    "#,'commons-math.mutations.xml'\n",
    "#,'commons-net.xml'\n",
    "#,'commons-ognl.xml'\n",
    ",'commons-pool.mutations.xml'\n",
    "#,'commons-scxml.xml'\n",
    "#,'commons-text.xml'\n",
    ",'commons-validator.mutations.xml'\n",
    "]"
   ]
  },
  {
   "cell_type": "code",
   "execution_count": null,
   "metadata": {},
   "outputs": [],
   "source": [
    "killed, survived, f0, f1, f2, m_table= {}, {}, {}, {}, {}, {}\n",
    "for project in projects:\n",
    "    killed[project], survived[project], f0[project], f1[project], f2[project], m_table[project] =process_xml(project)\n",
    "    print(project)\n",
    "    print(f\"\\tNumber of killed mutants: {killed[project]}, survived mutants: {survived[project]}\")\n",
    "    print(f\"\\tNumber of tests: {m_table[project].shape[1]}\")\n",
    "    print(f\"\\tF0: {f0[project]}, F1: {f1[project]}, F2: {f2[project]}\")\n",
    "    print()"
   ]
  },
  {
   "cell_type": "code",
   "execution_count": null,
   "metadata": {},
   "outputs": [],
   "source": []
  },
  {
   "cell_type": "code",
   "execution_count": null,
   "metadata": {},
   "outputs": [],
   "source": [
    "import xml.etree.ElementTree as et\n",
    "import pandas as pd\n",
    "\n",
    "temp = 0\n",
    "#temp2 = 0\n",
    "From_file = et.parse('/home/saikrishna/Estiamations_on_hundered_mutants_from_JackAndChaos_Ichaos/TraditionalSuites/commons-collections.mutations.xml')                     \n",
    "\n",
    "file1 = From_file.getroot()\n",
    "for node in file1:\n",
    "    print(temp)\n",
    "    temp = temp + 1\n",
    "    "
   ]
  },
  {
   "cell_type": "code",
   "execution_count": null,
   "metadata": {},
   "outputs": [],
   "source": [
    "import xml.etree.cElementTree as ET\n",
    "import sys\n",
    "\n",
    "OPERATORS = {\n",
    "\"org.pitest.mutationtest.engine.gregor.mutators.ConditionalsBoundaryMutator\":True,\n",
    "\"org.pitest.mutationtest.engine.gregor.mutators.IncrementsMutator\":True,\n",
    "\"org.pitest.mutationtest.engine.gregor.mutators.InvertNegsMutator\":True,\n",
    "\"org.pitest.mutationtest.engine.gregor.mutators.MathMutator\":True,\n",
    "\"org.pitest.mutationtest.engine.gregor.mutators.NegateConditionalsMutator\":True,\n",
    "\"org.pitest.mutationtest.engine.gregor.mutators.ReturnValsMutator\":True,\n",
    "\"org.pitest.mutationtest.engine.gregor.mutators.VoidMethodCallMutator\":True}\n",
    "\n",
    "tree = ET.parse('/home/saikrishna/vennDiagram/RandoopResults/commons-csv.mutations.xml')\n",
    "root = tree.getroot() \n",
    "root_tag = root.tag\n",
    "assert root_tag == 'mutations'\n",
    "for mutation in root.findall(\"./mutation\"):\n",
    "    mutator = list(mutation.findall('mutator'))[0].text\n",
    "    if mutator in OPERATORS:\t\n",
    "        kt = list(mutation.findall('killingTests'))[0].text\n",
    "        st = list(mutation.findall('succeedingTests'))[0].text\n",
    "        print(kt, st)"
   ]
  }
 ],
 "metadata": {
  "kernelspec": {
   "display_name": "Python 3",
   "language": "python",
   "name": "python3"
  },
  "language_info": {
   "codemirror_mode": {
    "name": "ipython",
    "version": 3
   },
   "file_extension": ".py",
   "mimetype": "text/x-python",
   "name": "python",
   "nbconvert_exporter": "python",
   "pygments_lexer": "ipython3",
   "version": "3.6.9"
  }
 },
 "nbformat": 4,
 "nbformat_minor": 2
}
